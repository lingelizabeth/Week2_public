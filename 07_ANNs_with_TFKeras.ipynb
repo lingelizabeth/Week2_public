{
  "nbformat": 4,
  "nbformat_minor": 0,
  "metadata": {
    "colab": {
      "name": "07_ANNs_with_TFKeras.ipynb",
      "version": "0.3.2",
      "provenance": [],
      "collapsed_sections": []
    },
    "kernelspec": {
      "name": "python3",
      "display_name": "Python 3"
    }
  },
  "cells": [
    {
      "metadata": {
        "id": "9XZEvoDUdSKh",
        "colab_type": "text"
      },
      "cell_type": "markdown",
      "source": [
        "# Artificial Neural Networks with TensorFlow.Keras\n",
        "\n",
        "In this notebook we will see how to use TensorFlow to train ANNs and avoid needing to extract features like we did in the previous notebook.\n",
        "\n",
        "Let's grab the same digit data we used before!"
      ]
    },
    {
      "metadata": {
        "id": "3MIrMPcldSQZ",
        "colab_type": "code",
        "colab": {
          "base_uri": "https://localhost:8080/",
          "height": 101
        },
        "outputId": "b7ffdfd8-3816-4692-89c5-8c1138bb0692"
      },
      "cell_type": "code",
      "source": [
        "! git clone https://github.com/Jakobovski/free-spoken-digit-dataset.git"
      ],
      "execution_count": 67,
      "outputs": [
        {
          "output_type": "stream",
          "text": [
            "Cloning into 'free-spoken-digit-dataset'...\n",
            "remote: Counting objects: 2089, done.\u001b[K\n",
            "remote: Total 2089 (delta 0), reused 0 (delta 0), pack-reused 2089\u001b[K\n",
            "Receiving objects: 100% (2089/2089), 20.90 MiB | 34.02 MiB/s, done.\n",
            "Resolving deltas: 100% (39/39), done.\n"
          ],
          "name": "stdout"
        }
      ]
    },
    {
      "metadata": {
        "id": "qvpcS7sshZzF",
        "colab_type": "code",
        "colab": {}
      },
      "cell_type": "code",
      "source": [
        "import os\n",
        "os.chdir('free-spoken-digit-dataset/recordings')"
      ],
      "execution_count": 0,
      "outputs": []
    },
    {
      "metadata": {
        "id": "6m3pXT_QW5Il",
        "colab_type": "code",
        "colab": {
          "base_uri": "https://localhost:8080/",
          "height": 218
        },
        "outputId": "0385e0e6-9d85-4cd4-c7b4-94f9b7833169"
      },
      "cell_type": "code",
      "source": [
        "import glob, os\n",
        "\n",
        "wavfiles = list()\n",
        "for file in glob.glob(\"*.wav\"):\n",
        "    wavfiles.append(file)\n",
        "\n",
        "num_points = len(wavfiles)\n",
        "\n",
        "print('{} data points\\n'.format(num_points))\n",
        "\n",
        "# list the first few files\n",
        "wavfiles[:10]\n",
        "\n"
      ],
      "execution_count": 69,
      "outputs": [
        {
          "output_type": "stream",
          "text": [
            "1500 data points\n",
            "\n"
          ],
          "name": "stdout"
        },
        {
          "output_type": "execute_result",
          "data": {
            "text/plain": [
              "['0_theo_13.wav',\n",
              " '6_theo_25.wav',\n",
              " '8_theo_15.wav',\n",
              " '6_nicolas_34.wav',\n",
              " '3_theo_46.wav',\n",
              " '2_theo_7.wav',\n",
              " '2_theo_27.wav',\n",
              " '9_theo_5.wav',\n",
              " '7_jackson_38.wav',\n",
              " '3_nicolas_19.wav']"
            ]
          },
          "metadata": {
            "tags": []
          },
          "execution_count": 69
        }
      ]
    },
    {
      "metadata": {
        "id": "dY2O4r5bW-j7",
        "colab_type": "code",
        "colab": {}
      },
      "cell_type": "code",
      "source": [
        "\n",
        "import numpy as np\n",
        "import scipy.io.wavfile\n",
        "from IPython.display import Audio\n",
        "import matplotlib.pyplot as plt\n",
        "import matplotlib\n",
        "import tensorflow as tf\n",
        "from sklearn import metrics\n",
        "import pandas as pd\n",
        "\n",
        "%matplotlib inline\n",
        "matplotlib.rcParams.update({'font.size': 16,'figure.figsize':(10,6)})\n"
      ],
      "execution_count": 0,
      "outputs": []
    },
    {
      "metadata": {
        "id": "pbB7aYMZ2gMs",
        "colab_type": "text"
      },
      "cell_type": "markdown",
      "source": [
        "## Load the data"
      ]
    },
    {
      "metadata": {
        "id": "ADKsZNPW4L8J",
        "colab_type": "code",
        "colab": {}
      },
      "cell_type": "code",
      "source": [
        "import re\n",
        "\n",
        "re_digit = re.compile('\\d+_')\n",
        "re_speaker = re.compile('_[a-z]+_')\n",
        "re_trial = re.compile('_\\d+.')\n",
        "\n",
        "X_data = np.ndarray(shape=(num_points,),dtype=object)\n",
        "y_labels = list()\n",
        "\n",
        "label='digit'"
      ],
      "execution_count": 0,
      "outputs": []
    },
    {
      "metadata": {
        "id": "9qcJGxFJ1fZC",
        "colab_type": "code",
        "colab": {
          "base_uri": "https://localhost:8080/",
          "height": 50
        },
        "outputId": "aaf4cafd-1278-49b2-a6e1-a28279422d81"
      },
      "cell_type": "code",
      "source": [
        "ix = 0\n",
        "for sample_file in wavfiles:\n",
        "  try:\n",
        "    \n",
        "    digit = int(re.match( re_digit, sample_file)[0][:-1])\n",
        "    speaker = re.search( re_speaker, sample_file)[0][1:-1]\n",
        "\n",
        "    # read the file\n",
        "    (sample_rate, signal) = scipy.io.wavfile.read(sample_file)\n",
        "    \n",
        "    # some files have two channels... just take the first one\n",
        "    if len(signal.shape) == 2:\n",
        "      signal = signal[:,0]\n",
        "      \n",
        "    \n",
        "    X_data[ix,] = np.array(signal)\n",
        "    \n",
        "    ix+=1\n",
        "    \n",
        "    if label == 'speaker':\n",
        "      y_labels.append(speaker)\n",
        "      \n",
        "    elif label == 'digit':\n",
        "      y_labels.append(digit)\n",
        "      \n",
        "    else:\n",
        "      print(\"I don't know what you want to predict...\")\n",
        "      break\n",
        "      \n",
        "    \n",
        "  except Exception as e:\n",
        "    \n",
        "    # something went wrong!  =(\n",
        "    \n",
        "    print(sample_file)\n",
        "    print(e)\n",
        "    print(X_data.shape)\n",
        "    print(signal.shape)\n",
        "    \n",
        "    break\n"
      ],
      "execution_count": 72,
      "outputs": [
        {
          "output_type": "stream",
          "text": [
            "/usr/local/lib/python3.6/dist-packages/scipy/io/wavfile.py:273: WavFileWarning: Chunk (non-data) not understood, skipping it.\n",
            "  WavFileWarning)\n"
          ],
          "name": "stderr"
        }
      ]
    },
    {
      "metadata": {
        "id": "bjprxl4__Mb8",
        "colab_type": "text"
      },
      "cell_type": "markdown",
      "source": [
        "## Normalize the inputs\n",
        "Each .wav file is a different duration.  If we want to use the raw input as the signals, this will make our neural net cranky.  Let's artifically pad or truncate our input vectors so they're all the same length.  (Warning: we may lose data!)"
      ]
    },
    {
      "metadata": {
        "id": "rXTpE6du1fgv",
        "colab_type": "code",
        "colab": {
          "base_uri": "https://localhost:8080/",
          "height": 390
        },
        "outputId": "b19ef7bb-818e-417c-a750-d44a44cd7812"
      },
      "cell_type": "code",
      "source": [
        "# Remove the mean from the data\n",
        "# For each data point:\n",
        "#   1) Remove the mean\n",
        "#   2) Make the length = 2000\n",
        "plt.plot(X_data[5])\n",
        "desired_length = 2000\n",
        "#print(X_data)\n",
        "## YOUR CODE HERE\n",
        "for i in range(X_data.shape[0]):\n",
        "  len_sig = X_data[i].shape[0]\n",
        "  X_data[i] = X_data[i]-np.mean(X_data[i])\n",
        "  if len_sig < desired_length:\n",
        "    #np.pad(signal, (0, 2000-signal.shape[0]))\n",
        "    pad_len = desired_length - len_sig\n",
        "    #print(pad_len)\n",
        "    X_data[i] = np.append(X_data[i], np.zeros(pad_len))\n",
        "    #signal = signal.resize((2000,))\n",
        "  elif len_sig > desired_length:\n",
        "    X_data[i] = X_data[i][:desired_length]\n",
        "    #signal = signal.resize((2000,))\n",
        "  \n",
        "plt.plot(X_data[5])\n",
        "    "
      ],
      "execution_count": 73,
      "outputs": [
        {
          "output_type": "execute_result",
          "data": {
            "text/plain": [
              "[<matplotlib.lines.Line2D at 0x7f4bd37d2160>]"
            ]
          },
          "metadata": {
            "tags": []
          },
          "execution_count": 73
        },
        {
          "output_type": "display_data",
          "data": {
            "image/png": "[encoded data removed]",
            "text/plain": [
              "<matplotlib.figure.Figure at 0x7f4bd37d2f60>"
            ]
          },
          "metadata": {
            "tags": []
          }
        }
      ]
    },
    {
      "metadata": {
        "id": "BwVVx3DaLybg",
        "colab_type": "code",
        "colab": {
          "base_uri": "https://localhost:8080/",
          "height": 104
        },
        "outputId": "e14ebf40-b6da-4c1e-925e-9cc0f48a5cd0"
      },
      "cell_type": "code",
      "source": [
        "# turn y_labels into categories (0,1,2)\n",
        "print(y_labels)\n",
        "y_labels = pd.Categorical(y_labels)\n",
        "print(y_labels)\n",
        "## YOUR CODE HERE"
      ],
      "execution_count": 74,
      "outputs": [
        {
          "output_type": "stream",
          "text": [
            "[0, 6, 8, 6, 3, 2, 2, 9, 7, 3, 9, 6, 9, 5, 0, 4, 1, 1, 4, 4, 0, 6, 2, 7, 5, 2, 4, 1, 0, 2, 8, 0, 8, 5, 7, 5, 2, 3, 4, 9, 3, 3, 0, 5, 3, 7, 5, 7, 5, 9, 6, 0, 4, 0, 1, 6, 3, 4, 6, 7, 3, 5, 0, 2, 5, 5, 1, 4, 0, 3, 0, 6, 9, 7, 4, 3, 2, 1, 8, 0, 2, 9, 4, 1, 2, 4, 7, 5, 3, 7, 7, 3, 8, 4, 7, 7, 8, 3, 0, 0, 1, 3, 6, 8, 6, 9, 7, 6, 0, 4, 0, 6, 3, 4, 8, 4, 5, 9, 1, 5, 8, 8, 5, 0, 1, 7, 9, 3, 8, 0, 6, 3, 6, 9, 7, 4, 9, 3, 9, 2, 1, 0, 7, 1, 8, 0, 2, 3, 5, 3, 1, 7, 0, 6, 0, 8, 5, 5, 0, 3, 8, 4, 4, 3, 9, 4, 6, 0, 3, 8, 1, 2, 9, 5, 8, 2, 3, 6, 8, 9, 4, 4, 3, 9, 7, 2, 0, 9, 7, 5, 5, 5, 7, 3, 1, 5, 4, 0, 0, 9, 8, 2, 9, 7, 3, 9, 6, 7, 4, 2, 3, 5, 0, 0, 9, 4, 8, 6, 4, 9, 2, 9, 2, 4, 6, 7, 3, 4, 5, 9, 0, 6, 6, 7, 9, 2, 9, 3, 6, 7, 0, 6, 8, 8, 7, 4, 7, 0, 6, 2, 3, 8, 0, 1, 9, 2, 9, 6, 6, 1, 1, 9, 5, 7, 2, 3, 3, 7, 7, 6, 9, 7, 6, 0, 5, 8, 2, 4, 1, 3, 0, 0, 0, 3, 4, 2, 1, 9, 6, 4, 0, 2, 2, 3, 1, 4, 0, 1, 2, 3, 7, 5, 7, 5, 7, 7, 0, 3, 1, 4, 5, 6, 9, 7, 6, 2, 9, 7, 7, 6, 8, 0, 3, 2, 3, 6, 9, 7, 8, 4, 9, 2, 5, 6, 0, 7, 2, 3, 4, 8, 8, 4, 6, 9, 8, 9, 0, 2, 4, 5, 9, 3, 5, 1, 0, 5, 0, 4, 3, 6, 6, 8, 6, 8, 3, 5, 8, 9, 1, 9, 2, 1, 0, 2, 2, 1, 0, 1, 1, 1, 7, 5, 2, 1, 1, 5, 2, 3, 3, 7, 3, 5, 6, 5, 1, 6, 3, 7, 9, 9, 4, 4, 7, 6, 3, 0, 1, 5, 0, 1, 1, 5, 7, 6, 0, 1, 9, 7, 6, 4, 6, 8, 4, 7, 5, 7, 7, 7, 0, 5, 4, 6, 7, 2, 7, 5, 9, 2, 7, 8, 9, 2, 8, 7, 1, 8, 8, 1, 2, 3, 2, 9, 7, 5, 3, 5, 6, 0, 4, 3, 8, 6, 6, 6, 9, 0, 3, 4, 7, 1, 3, 5, 4, 3, 9, 4, 5, 2, 6, 9, 1, 0, 8, 6, 7, 9, 7, 6, 2, 6, 9, 8, 3, 1, 9, 9, 4, 6, 8, 0, 7, 9, 4, 0, 7, 6, 1, 3, 8, 7, 0, 2, 3, 5, 1, 5, 1, 1, 1, 7, 5, 8, 3, 3, 9, 8, 8, 9, 8, 0, 9, 9, 8, 2, 4, 2, 6, 4, 7, 3, 4, 0, 5, 6, 3, 6, 2, 4, 8, 2, 6, 2, 7, 3, 1, 3, 4, 9, 4, 5, 8, 5, 5, 5, 2, 2, 0, 0, 1, 2, 5, 8, 8, 3, 0, 4, 1, 6, 1, 3, 2, 0, 5, 1, 4, 1, 0, 1, 6, 9, 1, 0, 4, 1, 3, 6, 6, 6, 1, 6, 7, 5, 4, 0, 4, 2, 2, 2, 9, 0, 8, 0, 2, 4, 7, 5, 0, 6, 2, 8, 9, 7, 5, 5, 3, 8, 2, 1, 2, 8, 0, 5, 8, 0, 3, 6, 8, 7, 9, 5, 7, 0, 7, 3, 1, 4, 4, 8, 6, 0, 6, 0, 8, 7, 4, 5, 1, 5, 7, 4, 0, 1, 1, 8, 8, 9, 7, 8, 3, 8, 4, 6, 2, 8, 3, 0, 9, 1, 3, 4, 0, 0, 6, 0, 9, 0, 3, 3, 5, 1, 8, 0, 0, 2, 3, 8, 8, 3, 0, 9, 2, 7, 9, 0, 5, 6, 2, 3, 1, 2, 7, 4, 9, 3, 0, 2, 8, 2, 3, 5, 2, 8, 2, 7, 5, 8, 5, 4, 2, 9, 4, 9, 7, 2, 1, 8, 7, 5, 7, 9, 7, 0, 7, 9, 1, 8, 2, 9, 6, 2, 2, 9, 5, 0, 2, 4, 3, 7, 5, 0, 0, 7, 3, 8, 7, 4, 5, 6, 6, 3, 3, 8, 9, 5, 3, 6, 4, 9, 7, 1, 7, 0, 8, 1, 0, 0, 0, 6, 1, 4, 3, 3, 5, 4, 8, 5, 4, 1, 2, 6, 5, 6, 3, 9, 6, 8, 9, 1, 3, 8, 7, 7, 8, 8, 9, 3, 1, 8, 0, 1, 7, 9, 2, 7, 4, 0, 9, 8, 7, 5, 0, 2, 0, 8, 3, 6, 4, 7, 7, 1, 7, 1, 8, 7, 5, 3, 6, 5, 7, 1, 6, 9, 5, 0, 7, 9, 1, 8, 4, 4, 7, 3, 6, 0, 7, 7, 7, 6, 9, 6, 9, 5, 1, 4, 2, 6, 2, 5, 4, 2, 9, 5, 3, 6, 6, 1, 0, 5, 8, 9, 8, 1, 0, 6, 8, 4, 5, 0, 8, 8, 5, 5, 5, 4, 5, 5, 6, 5, 4, 8, 9, 9, 7, 6, 2, 0, 7, 2, 3, 6, 8, 2, 5, 8, 9, 5, 4, 6, 8, 1, 3, 5, 2, 8, 3, 3, 1, 8, 1, 3, 2, 9, 1, 3, 8, 1, 4, 0, 0, 1, 7, 8, 6, 1, 0, 1, 5, 6, 5, 7, 3, 5, 2, 6, 0, 8, 9, 3, 4, 2, 1, 5, 1, 2, 3, 3, 3, 1, 9, 0, 1, 3, 4, 0, 7, 2, 6, 8, 9, 6, 2, 5, 9, 5, 2, 6, 5, 1, 4, 2, 1, 3, 0, 1, 6, 9, 8, 7, 2, 1, 2, 1, 5, 8, 9, 5, 3, 2, 5, 7, 7, 6, 4, 0, 0, 2, 2, 1, 1, 7, 5, 1, 1, 6, 9, 3, 1, 8, 9, 2, 7, 2, 4, 6, 8, 1, 2, 1, 1, 4, 5, 7, 9, 5, 3, 6, 0, 8, 7, 7, 3, 0, 3, 4, 8, 7, 1, 2, 0, 0, 4, 9, 8, 4, 4, 8, 5, 8, 5, 8, 2, 0, 5, 2, 4, 4, 9, 5, 0, 1, 9, 8, 9, 1, 1, 4, 6, 8, 9, 8, 1, 8, 2, 6, 6, 3, 4, 2, 6, 5, 0, 5, 8, 9, 6, 1, 9, 8, 9, 4, 8, 7, 6, 2, 7, 7, 7, 6, 9, 2, 2, 3, 5, 6, 9, 7, 8, 2, 1, 3, 5, 5, 9, 7, 7, 1, 6, 4, 1, 8, 8, 5, 6, 6, 3, 7, 8, 1, 2, 8, 1, 4, 2, 5, 8, 2, 3, 1, 6, 4, 6, 7, 7, 9, 2, 2, 3, 2, 2, 9, 1, 4, 8, 8, 4, 3, 4, 1, 9, 5, 4, 3, 4, 3, 5, 0, 2, 7, 2, 5, 8, 8, 2, 2, 4, 4, 3, 0, 9, 0, 4, 6, 9, 0, 7, 0, 8, 5, 0, 6, 9, 5, 4, 5, 2, 7, 6, 4, 3, 5, 2, 4, 6, 2, 2, 6, 4, 4, 2, 9, 7, 1, 2, 0, 9, 9, 1, 8, 4, 5, 8, 7, 9, 4, 9, 1, 9, 3, 7, 3, 0, 4, 0, 5, 0, 0, 3, 9, 1, 1, 1, 9, 6, 3, 9, 7, 2, 4, 2, 0, 5, 8, 7, 8, 1, 6, 2, 7, 5, 8, 4, 1, 0, 8, 9, 1, 4, 6, 2, 0, 0, 8, 6, 9, 2, 1, 4, 3, 0, 4, 8, 1, 7, 8, 7, 0, 4, 7, 8, 9, 1, 5, 4, 0, 4, 4, 9, 4, 1, 0, 6, 3, 5, 7, 7, 2, 1, 8, 4, 4, 2, 2, 1, 8, 4, 5, 4, 7, 4, 2, 6, 4, 5, 0, 1, 8, 5, 0, 3, 3, 3, 4, 9, 7, 5, 3, 4, 9, 4, 1, 0, 9, 6, 3, 1, 3, 1, 2, 1, 0, 0, 3, 8, 8, 9, 9, 4, 5, 0, 6, 8, 1, 7, 2, 3, 6, 6, 2, 2, 3, 1, 2, 6, 6, 5, 6, 3, 3, 1, 4, 0, 7, 5, 6, 3, 3, 0, 9, 5, 9, 7, 0, 8, 9, 9, 4, 7, 2, 1, 1, 3, 1, 0, 5, 0, 1, 6, 1, 6, 8, 3, 3, 4, 6, 9, 3, 9, 1, 5, 9, 5, 4, 4, 6, 9, 6, 5, 7, 6, 2, 9, 9, 4, 7, 6, 9, 0, 3, 9, 8, 4, 7, 5, 8, 8, 5, 3, 6, 6, 8, 5, 1, 2, 6, 5, 2, 6, 3, 4, 9, 8, 2, 7, 2, 5, 3, 2, 4, 7, 6]\n",
            "[0, 6, 8, 6, 3, ..., 3, 2, 4, 7, 6]\n",
            "Length: 1500\n",
            "Categories (10, int64): [0, 1, 2, 3, ..., 6, 7, 8, 9]\n"
          ],
          "name": "stdout"
        }
      ]
    },
    {
      "metadata": {
        "id": "XZkW3thkFtPs",
        "colab_type": "text"
      },
      "cell_type": "markdown",
      "source": [
        "## Split data into test/train split"
      ]
    },
    {
      "metadata": {
        "id": "mANSzEFx1fo7",
        "colab_type": "code",
        "colab": {}
      },
      "cell_type": "code",
      "source": [
        "from sklearn.model_selection import train_test_split\n",
        "\n",
        "# split X and y into training and testing sets\n",
        "X_train, X_test, y_train, y_test = train_test_split(X_data, np.array(y_labels), test_size=0.25)"
      ],
      "execution_count": 0,
      "outputs": []
    },
    {
      "metadata": {
        "id": "1oGFU7vm1fmr",
        "colab_type": "code",
        "colab": {
          "base_uri": "https://localhost:8080/",
          "height": 50
        },
        "outputId": "90383a37-c53a-44e9-897f-6708a0462774"
      },
      "cell_type": "code",
      "source": [
        "print(X_train.shape)\n",
        "print(y_train.shape)"
      ],
      "execution_count": 76,
      "outputs": [
        {
          "output_type": "stream",
          "text": [
            "(1125,)\n",
            "(1125,)\n"
          ],
          "name": "stdout"
        }
      ]
    },
    {
      "metadata": {
        "id": "oNZex1ySHzGb",
        "colab_type": "text"
      },
      "cell_type": "markdown",
      "source": [
        "## Reformat the labels\n",
        "\n",
        "Next, we want to convert the labels from an integer format (e.g., \"2\"), to a [one hot encoding](https://en.wikipedia.org/wiki/One-hot) (e.g., \"0, 0, 1, 0, 0, 0, 0, 0, 0, 0\"). To do so, we'll use the `tf.keras.utils.to_categorical` [function](https://www.tensorflow.org/api_docs/python/tf/keras/utils/to_categorical) function."
      ]
    },
    {
      "metadata": {
        "id": "WAVsA9rk1fkd",
        "colab_type": "code",
        "colab": {}
      },
      "cell_type": "code",
      "source": [
        "NUM_DIGITS = 10\n",
        "\n",
        "# YOUR CODE HERE\n",
        "y_train = tf.keras.utils.to_categorical(y_train, NUM_DIGITS)\n",
        "y_test = tf.keras.utils.to_categorical(y_test, NUM_DIGITS)"
      ],
      "execution_count": 0,
      "outputs": []
    },
    {
      "metadata": {
        "id": "DiaSczTAb042",
        "colab_type": "code",
        "colab": {}
      },
      "cell_type": "code",
      "source": [
        "# The X data is in a variable-length array, which will make TensorFlow cranky... we're going to hack something together to fix that\n",
        "\n",
        "\n",
        "X_train_df = pd.DataFrame()\n",
        "for xx in X_train:\n",
        "  X_train_df=X_train_df.append(pd.Series(xx),ignore_index=True)\n",
        "\n",
        "\n",
        "X_test_df = pd.DataFrame()\n",
        "for xx in X_test:\n",
        "  X_test_df=X_test_df.append(pd.Series(xx),ignore_index=True)"
      ],
      "execution_count": 0,
      "outputs": []
    },
    {
      "metadata": {
        "id": "Dr9q1Sd0NdIO",
        "colab_type": "text"
      },
      "cell_type": "markdown",
      "source": [
        "## Build the model\n",
        "\n",
        "Now, we'll create our neural network using the [Keras Sequential API](https://www.tensorflow.org/api_docs/python/tf/keras/Sequential). \n",
        "* Architecture wise, we'll single layer network. \n",
        "* The hidden layer will have 512 units using the [ReLU](https://www.tensorflow.org/api_docs/python/tf/keras/activations/relu) activation function. \n",
        "* The output layer will have 10 units and use [softmax](https://www.tensorflow.org/api_docs/python/tf/keras/activations/softmax) function. \n",
        "* Note: you will need to specify the input shape on the first layer. If you add subsequent layers, this is not necessary. \n",
        "* We will use the [categorical crossentropy](https://www.tensorflow.org/api_docs/python/tf/keras/losses/categorical_crossentropy) loss function, and the [RMSProp](https://www.tensorflow.org/api_docs/python/tf/keras/optimizers/RMSprop) optimizer."
      ]
    },
    {
      "metadata": {
        "id": "S9nggvb4HsYi",
        "colab_type": "code",
        "colab": {
          "base_uri": "https://localhost:8080/",
          "height": 202
        },
        "outputId": "92c34505-48e7-4b68-a81c-82aa9ab35c83"
      },
      "cell_type": "code",
      "source": [
        "# Build a fully-connected ANN with one hidden layer\n",
        "\n",
        "model = tf.keras.Sequential()\n",
        "model.add(tf.keras.layers.Dense(512, activation=tf.nn.relu, input_shape=X_train[0].shape))\n",
        "#model.add(tf.keras.activations.relu(512, alpha=0.0, max_value=None))\n",
        "## YOUR CODE HERE)   # hidden layer with 512 units and relu activation\n",
        "model.add(tf.keras.layers.Dense(10, activation=tf.nn.softmax))  # output layer with 10 units and softmax activation\n",
        "                                #for 10 digits\n",
        "model.compile(loss='categorical_crossentropy', optimizer='rmsprop', metrics=['accuracy'])## YOUR CODE HERE)\n",
        "\n",
        "model.summary()"
      ],
      "execution_count": 88,
      "outputs": [
        {
          "output_type": "stream",
          "text": [
            "_________________________________________________________________\n",
            "Layer (type)                 Output Shape              Param #   \n",
            "=================================================================\n",
            "dense_11 (Dense)             (None, 512)               1024512   \n",
            "_________________________________________________________________\n",
            "dense_12 (Dense)             (None, 10)                5130      \n",
            "=================================================================\n",
            "Total params: 1,029,642\n",
            "Trainable params: 1,029,642\n",
            "Non-trainable params: 0\n",
            "_________________________________________________________________\n"
          ],
          "name": "stdout"
        }
      ]
    },
    {
      "metadata": {
        "id": "0eNUnAweNtnc",
        "colab_type": "text"
      },
      "cell_type": "markdown",
      "source": [
        "## Training\n",
        "\n",
        "Next, we will train the model by using the [fit method](https://www.tensorflow.org/api_docs/python/tf/keras/Sequential#fit) for 10 [epochs](https://www.quora.com/What-is-epochs-in-machine-learning). We will keep track of the training loss and accuracy as we go. Please be patient as this step may take a while depending on your hardware."
      ]
    },
    {
      "metadata": {
        "id": "W5YJMXeKHseP",
        "colab_type": "code",
        "colab": {
          "base_uri": "https://localhost:8080/",
          "height": 710
        },
        "outputId": "df2d4a98-1c33-4227-d594-625567f4188a"
      },
      "cell_type": "code",
      "source": [
        "history = model.fit(X_train_df, y_train, epochs=10)\n",
        "\n",
        "# plot metrics\n",
        "plt.plot(history.history['acc'])\n",
        "plt.show()"
      ],
      "execution_count": 89,
      "outputs": [
        {
          "output_type": "stream",
          "text": [
            "Epoch 1/10\n",
            "1125/1125 [==============================] - 1s 569us/step - loss: 13.8814 - acc: 0.0924\n",
            "Epoch 2/10\n",
            "1125/1125 [==============================] - 0s 407us/step - loss: 12.6484 - acc: 0.2044\n",
            "Epoch 3/10\n",
            "1125/1125 [==============================] - 0s 428us/step - loss: 12.5669 - acc: 0.2080\n",
            "Epoch 4/10\n",
            "1125/1125 [==============================] - 1s 530us/step - loss: 11.9623 - acc: 0.2498\n",
            "Epoch 5/10\n",
            "1125/1125 [==============================] - 1s 528us/step - loss: 11.6714 - acc: 0.2693\n",
            "Epoch 6/10\n",
            "1125/1125 [==============================] - 1s 511us/step - loss: 11.6277 - acc: 0.2738\n",
            "Epoch 7/10\n",
            "1125/1125 [==============================] - 1s 527us/step - loss: 11.5939 - acc: 0.2738\n",
            "Epoch 8/10\n",
            "1125/1125 [==============================] - 1s 512us/step - loss: 11.4610 - acc: 0.2827\n",
            "Epoch 9/10\n",
            "1125/1125 [==============================] - 1s 517us/step - loss: 11.3109 - acc: 0.2889\n",
            "Epoch 10/10\n",
            "1125/1125 [==============================] - 1s 515us/step - loss: 11.2677 - acc: 0.2987\n"
          ],
          "name": "stdout"
        },
        {
          "output_type": "display_data",
          "data": {
            "image/png": "[encoded data removed]",
            "text/plain": [
              "<matplotlib.figure.Figure at 0x7f4bd82240f0>"
            ]
          },
          "metadata": {
            "tags": []
          }
        }
      ]
    },
    {
      "metadata": {
        "id": "SxkMOdLrT-2V",
        "colab_type": "text"
      },
      "cell_type": "markdown",
      "source": [
        "## Testing\n",
        "Now that we have trained our model, we want to evaluate it. The training accuracy wasn't great (~35%, depending on the random seed), but better than random (10%).  Let's see how well we do on our test data."
      ]
    },
    {
      "metadata": {
        "id": "86h3mYf5T_Bh",
        "colab_type": "code",
        "colab": {
          "base_uri": "https://localhost:8080/",
          "height": 50
        },
        "outputId": "4f64c178-c89f-4fa0-a06b-2ad62de89d0a"
      },
      "cell_type": "code",
      "source": [
        "loss, accuracy = model.evaluate(X_test_df, y_test)\n",
        "print('Test accuracy: %.2f' % (accuracy))"
      ],
      "execution_count": 90,
      "outputs": [
        {
          "output_type": "stream",
          "text": [
            "375/375 [==============================] - 0s 228us/step\n",
            "Test accuracy: 0.13\n"
          ],
          "name": "stdout"
        }
      ]
    },
    {
      "metadata": {
        "id": "J6d-b_SrHsl2",
        "colab_type": "code",
        "colab": {
          "base_uri": "https://localhost:8080/",
          "height": 34
        },
        "outputId": "706b9547-3cc7-42c2-dfdf-0ed4c64b18b3"
      },
      "cell_type": "code",
      "source": [
        "y_pred = model.predict_proba(X_test_df, verbose=1)\n",
        "\n",
        "ix_pred = [np.argmax(y) for y in y_pred]\n",
        "ix_true = [np.argmax(y) for y in y_test]"
      ],
      "execution_count": 91,
      "outputs": [
        {
          "output_type": "stream",
          "text": [
            "375/375 [==============================] - 0s 203us/step\n"
          ],
          "name": "stdout"
        }
      ]
    },
    {
      "metadata": {
        "id": "I0iiseNLWyBc",
        "colab_type": "code",
        "colab": {}
      },
      "cell_type": "code",
      "source": [
        "# Visualize the confusion matrix\n",
        "def plot_cmatrix(cm,labels,title='Confusion Matrix'):\n",
        "  fig = plt.figure()\n",
        "  ax = fig.add_subplot(111)\n",
        "  cax = ax.matshow(cm,cmap='Reds')\n",
        "  plt.title('\\n'+title+'\\n', fontsize=20)\n",
        "  fig.colorbar(cax)\n",
        "  ax.set_xticks(range(len(labels)))\n",
        "  ax.set_yticks(range(len(labels)))\n",
        "  ax.set_xticklabels(labels, fontsize=16)\n",
        "  ax.set_yticklabels(labels, fontsize=16)\n",
        "  plt.xlabel('Predicted', fontsize=16)\n",
        "  plt.ylabel('True', fontsize=16)\n",
        "  plt.show()"
      ],
      "execution_count": 0,
      "outputs": []
    },
    {
      "metadata": {
        "id": "ViciIqK4Xz9t",
        "colab_type": "code",
        "colab": {
          "base_uri": "https://localhost:8080/",
          "height": 457
        },
        "outputId": "7fe92d16-caab-4b29-dc42-7b030647d7fc"
      },
      "cell_type": "code",
      "source": [
        "cm = metrics.confusion_matrix(ix_true,ix_pred, range(10))\n",
        "plot_cmatrix(cm, range(10))"
      ],
      "execution_count": 93,
      "outputs": [
        {
          "output_type": "display_data",
          "data": {
            "image/png": "[encoded data removed]",
            "text/plain": [
              "<matplotlib.figure.Figure at 0x7f4bd0435668>"
            ]
          },
          "metadata": {
            "tags": []
          }
        }
      ]
    },
    {
      "metadata": {
        "id": "hN0uqYX6ZmH7",
        "colab_type": "text"
      },
      "cell_type": "markdown",
      "source": [
        "### Conclusions\n",
        "As you can see, this is actually a pretty terrible classifier... \n",
        "* Play around with some of the model parameters to see if you can make it better.  Later we'll see how we can use convolutions to solve a similar problem!\n",
        "* Try to see if you can train a better classifier using the frequency spectrum instead of the raw signal.  You won't have to pad/truncate the data because the data should all be the same size in the frequency domain (assuming they are all sampled at the same rate, which they are)!"
      ]
    },
    {
      "metadata": {
        "id": "Hm8YdwHuZwPj",
        "colab_type": "code",
        "colab": {}
      },
      "cell_type": "code",
      "source": [
        ""
      ],
      "execution_count": 0,
      "outputs": []
    }
  ]
}